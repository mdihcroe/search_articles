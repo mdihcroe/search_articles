{
 "cells": [
  {
   "cell_type": "code",
   "execution_count": 117,
   "metadata": {
    "collapsed": true
   },
   "outputs": [],
   "source": [
    "from Bio import Entrez\n",
    "import xml.etree.ElementTree as ET\n",
    "\n",
    "handle = Entrez.efetch(db=\"bioproject\", id=405029, retmode='xml')\n",
    "record = handle.read()\n",
    "handle.close()\n",
    "root = ET.fromstring(record)"
   ]
  },
  {
   "cell_type": "code",
   "execution_count": 118,
   "metadata": {},
   "outputs": [
    {
     "name": "stdout",
     "output_type": "stream",
     "text": [
      "<?xml version=\"1.0\" ?>\n<RecordSet><DocumentSummary uid=\"405029\">\n    <Project>\n        <ProjectID>\n            <ArchiveID accession=\"PRJNA405029\" archive=\"NCBI\" id=\"405029\"/>\n            <CenterID center=\"DOE Joint Genome Institute\" id=\"1124318\"/>\n        </ProjectID>\n        <ProjectDescr>\n            <Name>groundwater metagenome</Name>\n            <Title>Sorted cell/s from water of Crystal Geyser, Green River, Utah, USA - CrystG Aug08-3-B05 metagenome</Title>\n            <Description>Sorted cells from water of Crystal Geyser, Green River, Utah for developing a pipeline for high-throughput recovery of near-complete and complete microbial genomes from complex metagenomic datasets.</Description>\n            <ExternalLink label=\"JGI Genome Portal\">\n                <URL>http://genome.jgi-psf.org/lookup?keyName=jgiProjectId&amp;keyValue=1124318&amp;app=Info</URL>\n            </ExternalLink>\n            <ExternalLink label=\"GOLD\">\n                <URL>https://gold.jgi.doe.gov/project?id=Gp0196084</URL>\n            </ExternalLink>\n            <Relevance>\n                <Environmental>Comparative Analysis</Environmental>\n            </Relevance>\n            <LocusTagPrefix biosample_id=\"SAMN07630749\">CM529</LocusTagPrefix>\n        </ProjectDescr>\n        <ProjectType>\n            <ProjectTypeSubmission>\n                <Target capture=\"eWhole\" material=\"eGenome\" sample_scope=\"eEnvironment\">\n                    <Organism species=\"717931\" taxID=\"717931\">\n                        <OrganismName>groundwater metagenome</OrganismName>\n                        <Supergroup>eOther</Supergroup>\n                    </Organism>\n                </Target>\n                <Method method_type=\"eSequencing\"/>\n                <Objectives>\n                    <Data data_type=\"eSequence\"/>\n                </Objectives>\n                <IntendedDataTypeSet>\n                    <DataType>metagenome</DataType>\n                </IntendedDataTypeSet>\n                <ProjectDataTypeSet>\n                    <DataType>metagenome</DataType>\n                </ProjectDataTypeSet>\n            </ProjectTypeSubmission>\n        </ProjectType>\n    </Project>\n    <Submission last_update=\"2017-09-11\" submission_id=\"SUB3031256\" submitted=\"2017-09-11\">\n        <Description>\n            <!-- Submitter information has been removed -->\n            <Organization org_id=\"37\" role=\"owner\" type=\"institute\" url=\"http://jgi.doe.gov/\">\n                <Name abbr=\"JGI\">DOE Joint Genome Institute</Name>\n                <!-- Contact information has been removed -->\n            </Organization>\n            <Access>public</Access>\n        </Description>\n        <Action action_id=\"SUB3031256-1124318\"/>\n    </Submission>\n</DocumentSummary>\n\n</RecordSet>\n"
     ]
    }
   ],
   "source": [
    "# print record\n",
    "# root.findall('.//abstract/p')[0].text\n",
    "# print root.findall('.//IdList/Id')[0].text\n",
    "#print 'TITLE: ', root[0][0][1][4][0].text\n",
    "#print 'ABSTRACT: ', root[0][0][1][17][0].text\n",
    "print record"
   ]
  },
  {
   "cell_type": "code",
   "execution_count": 121,
   "metadata": {},
   "outputs": [
    {
     "name": "stdout",
     "output_type": "stream",
     "text": [
      "829\n"
     ]
    }
   ],
   "source": [
    "key_words = 'seawater'\n",
    "\n",
    "# get number of results\n",
    "\n",
    "handle = Entrez.esearch(db=\"bioproject\", term=key_words)\n",
    "record = Entrez.read(handle)\n",
    "handle.close()\n",
    "print record['Count']"
   ]
  },
  {
   "cell_type": "code",
   "execution_count": null,
   "metadata": {},
   "outputs": [],
   "source": [
    ""
   ]
  }
 ],
 "metadata": {
  "kernelspec": {
   "display_name": "Python 2",
   "language": "python",
   "name": "python2"
  },
  "language_info": {
   "codemirror_mode": {
    "name": "ipython",
    "version": 2.0
   },
   "file_extension": ".py",
   "mimetype": "text/x-python",
   "name": "python",
   "nbconvert_exporter": "python",
   "pygments_lexer": "ipython2",
   "version": "2.7.6"
  }
 },
 "nbformat": 4,
 "nbformat_minor": 0
}